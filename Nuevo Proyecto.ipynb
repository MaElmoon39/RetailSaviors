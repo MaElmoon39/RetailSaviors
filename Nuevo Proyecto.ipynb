{
 "cells": [
  {
   "cell_type": "markdown",
   "metadata": {},
   "source": [
    "## Parte 1: AED\n",
    "\n",
    "En esta etapa del proyecto, debes decidir con tu equipo qué aspecto del conjunto de datos les gustaría explorar y mostrar en su sitio.\n",
    "\n",
    "Deben elegir uno de los conjuntos de datos y realizar un AED (*Análisis exploratorio de datos*) en él. Algunos de los conjuntos de datos requerirán diferentes métodos de preprocesamiento. Tengan en cuenta que es posible que necesiten:\n",
    "\n",
    "- Unir tablas\n",
    "- Eliminar valores faltantes\n",
    "- Reagrupar datos para centrarte en elementos particulares\n",
    "- Crear nuevas columnas para analizar los datos.\n"
   ]
  },
  {
   "cell_type": "markdown",
   "metadata": {},
   "source": [
    "## Parte 2: Visualización (y explicar los datos a las diferentes audiencias en el hackathon)\n",
    "\n",
    "Después de explorar los datos, debes decidir sobre diferentes formas de visualizar los datos. Las visualizaciones deben ser interactivas y deberás trabajar con tu equipo para determinar qué elementos serán interactivos y cómo el usuario final debe interactuar con ellos. Además, debes estar preparada o preparado para enviar a tu equipo un archivo con un subconjunto de los datos que se pueden usar para construir la visualización interactiva. El método `to_json()` DataFrame probablemente sea la forma más eficiente de lograr esto. La [documentación](https://pandas.pydata.org/pandas-docs/stable/reference/api/pandas.DataFrame.to_json.html) puede ayudar a refrescar tu memoria sobre cómo hacer uso de esto.\n",
    "\n",
    "Cada una de tus visualizaciones debe ser única. Para refrescar los diferentes tipos de gráficos que puedes hacer (y el código para hacerlos), puedes usar [este sitio] ([https://www.python-graph-gallery.com](https://www.python-graph-gallery.com/)) como referencia."
   ]
  },
  {
   "cell_type": "markdown",
   "metadata": {},
   "source": [
    "## Parte 3: Reporte de resultados\n",
    "\n",
    "Si bien las visualizaciones son muy útiles para señalar características importantes de un conjunto de datos, no son suficientes para un análisis de datos completo. La última etapa de tu trabajo debe ser escribir tus resultados. Estos se incluirán en el repositorio que envíes para su calificación.\n",
    "\n",
    "Debes escribir:\n",
    "\n",
    "- Una introducción al conjunto de datos de un mínimo de 100 palabras.\n",
    "    - ¿Qué datos tienes?\n",
    "    - ¿Qué hiciste?\n",
    "    - ¿Cuáles son sus principales hallazgos? ( brevemente)\n",
    "    - ¿Cómo leer tu informe/qué tienes en el reporte?\n",
    "- Un mínimo de 50 palabras por cada visualización, explicando, dando un contexto más amplio y sacando conclusiones.\n",
    "- Una conclusión de al menos 50 palabras, que indique qué exploraciones adicionales se pueden realizar en el conjunto de datos."
   ]
  },
  {
   "cell_type": "markdown",
   "metadata": {},
   "source": [
    "## Parte 4. Entregables para la calificación\n",
    "\n",
    "Tu equipo debe enviar un enlace a un repositorio público de Github con todos sus materiales de trabajo a @ alma.linares por MENSAJE DIRECTO EN DISCORD. Para evaluar su trabajo, debe haber un cuaderno Jupyter que contenga:\n",
    "\n",
    "- El código para su trabajo de AED (Parte 1)\n",
    "- Las visualizaciones que crearon (Parte 2)\n",
    "- **Los textos para describir y reportar sus resultados (Parte 3) dentro de una página WEB.**"
   ]
  }
 ],
 "metadata": {
  "language_info": {
   "name": "python"
  }
 },
 "nbformat": 4,
 "nbformat_minor": 2
}
